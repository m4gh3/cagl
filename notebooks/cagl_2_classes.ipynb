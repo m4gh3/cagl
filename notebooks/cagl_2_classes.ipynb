{
 "cells": [
  {
   "cell_type": "code",
   "execution_count": 1,
   "id": "6a5ec290-c1f2-44cc-8e72-f28eceb7076b",
   "metadata": {
    "scrolled": true
   },
   "outputs": [
    {
     "name": "stderr",
     "output_type": "stream",
     "text": [
      "2024-01-20 14:37:56.544737: E external/local_xla/xla/stream_executor/cuda/cuda_dnn.cc:9261] Unable to register cuDNN factory: Attempting to register factory for plugin cuDNN when one has already been registered\n",
      "2024-01-20 14:37:56.544761: E external/local_xla/xla/stream_executor/cuda/cuda_fft.cc:607] Unable to register cuFFT factory: Attempting to register factory for plugin cuFFT when one has already been registered\n",
      "2024-01-20 14:37:56.545226: E external/local_xla/xla/stream_executor/cuda/cuda_blas.cc:1515] Unable to register cuBLAS factory: Attempting to register factory for plugin cuBLAS when one has already been registered\n",
      "2024-01-20 14:37:56.550521: I tensorflow/core/platform/cpu_feature_guard.cc:182] This TensorFlow binary is optimized to use available CPU instructions in performance-critical operations.\n",
      "To enable the following instructions: AVX2 FMA, in other operations, rebuild TensorFlow with the appropriate compiler flags.\n"
     ]
    }
   ],
   "source": [
    "import tensorflow as tf\n",
    "import matplotlib.pyplot as plt"
   ]
  },
  {
   "cell_type": "code",
   "execution_count": 2,
   "id": "45cbf3ec-c316-46e2-81bd-e7709feaef4e",
   "metadata": {},
   "outputs": [],
   "source": [
    "(train_images, train_labels), (test_images, test_labels) = tf.keras.datasets.mnist.load_data()"
   ]
  },
  {
   "cell_type": "code",
   "execution_count": 3,
   "id": "3d36f15d-8de8-4021-b310-e709acc4321a",
   "metadata": {
    "scrolled": true
   },
   "outputs": [
    {
     "name": "stderr",
     "output_type": "stream",
     "text": [
      "2024-01-20 14:37:58.458572: I external/local_xla/xla/stream_executor/cuda/cuda_executor.cc:901] successful NUMA node read from SysFS had negative value (-1), but there must be at least one NUMA node, so returning NUMA node zero. See more at https://github.com/torvalds/linux/blob/v6.0/Documentation/ABI/testing/sysfs-bus-pci#L344-L355\n",
      "2024-01-20 14:37:58.476617: I external/local_xla/xla/stream_executor/cuda/cuda_executor.cc:901] successful NUMA node read from SysFS had negative value (-1), but there must be at least one NUMA node, so returning NUMA node zero. See more at https://github.com/torvalds/linux/blob/v6.0/Documentation/ABI/testing/sysfs-bus-pci#L344-L355\n",
      "2024-01-20 14:37:58.476796: I external/local_xla/xla/stream_executor/cuda/cuda_executor.cc:901] successful NUMA node read from SysFS had negative value (-1), but there must be at least one NUMA node, so returning NUMA node zero. See more at https://github.com/torvalds/linux/blob/v6.0/Documentation/ABI/testing/sysfs-bus-pci#L344-L355\n",
      "2024-01-20 14:37:58.479083: I external/local_xla/xla/stream_executor/cuda/cuda_executor.cc:901] successful NUMA node read from SysFS had negative value (-1), but there must be at least one NUMA node, so returning NUMA node zero. See more at https://github.com/torvalds/linux/blob/v6.0/Documentation/ABI/testing/sysfs-bus-pci#L344-L355\n",
      "2024-01-20 14:37:58.479274: I external/local_xla/xla/stream_executor/cuda/cuda_executor.cc:901] successful NUMA node read from SysFS had negative value (-1), but there must be at least one NUMA node, so returning NUMA node zero. See more at https://github.com/torvalds/linux/blob/v6.0/Documentation/ABI/testing/sysfs-bus-pci#L344-L355\n",
      "2024-01-20 14:37:58.479399: I external/local_xla/xla/stream_executor/cuda/cuda_executor.cc:901] successful NUMA node read from SysFS had negative value (-1), but there must be at least one NUMA node, so returning NUMA node zero. See more at https://github.com/torvalds/linux/blob/v6.0/Documentation/ABI/testing/sysfs-bus-pci#L344-L355\n",
      "2024-01-20 14:37:58.537343: I external/local_xla/xla/stream_executor/cuda/cuda_executor.cc:901] successful NUMA node read from SysFS had negative value (-1), but there must be at least one NUMA node, so returning NUMA node zero. See more at https://github.com/torvalds/linux/blob/v6.0/Documentation/ABI/testing/sysfs-bus-pci#L344-L355\n",
      "2024-01-20 14:37:58.537508: I external/local_xla/xla/stream_executor/cuda/cuda_executor.cc:901] successful NUMA node read from SysFS had negative value (-1), but there must be at least one NUMA node, so returning NUMA node zero. See more at https://github.com/torvalds/linux/blob/v6.0/Documentation/ABI/testing/sysfs-bus-pci#L344-L355\n",
      "2024-01-20 14:37:58.537639: I external/local_xla/xla/stream_executor/cuda/cuda_executor.cc:901] successful NUMA node read from SysFS had negative value (-1), but there must be at least one NUMA node, so returning NUMA node zero. See more at https://github.com/torvalds/linux/blob/v6.0/Documentation/ABI/testing/sysfs-bus-pci#L344-L355\n",
      "2024-01-20 14:37:58.537743: I tensorflow/core/common_runtime/gpu/gpu_device.cc:1929] Created device /job:localhost/replica:0/task:0/device:GPU:0 with 3488 MB memory:  -> device: 0, name: NVIDIA GeForce GTX 1050 Ti with Max-Q Design, pci bus id: 0000:01:00.0, compute capability: 6.1\n",
      "2024-01-20 14:37:58.537996: I tensorflow/core/common_runtime/process_util.cc:146] Creating new thread pool with default inter op setting: 2. Tune using inter_op_parallelism_threads for best performance.\n"
     ]
    }
   ],
   "source": [
    "two_indices = tf.where(tf.math.equal(train_labels, 2))[:20,0]\n",
    "two_images  = tf.gather(train_images, two_indices)/255"
   ]
  },
  {
   "cell_type": "code",
   "execution_count": 4,
   "id": "79b29655-80b7-4cad-a620-ae1693e2d39d",
   "metadata": {},
   "outputs": [],
   "source": [
    "zer_indices = tf.where(tf.math.equal(train_labels, 0))[:20,0]\n",
    "zer_images  = tf.gather(train_images, zer_indices)/255"
   ]
  },
  {
   "cell_type": "code",
   "execution_count": 5,
   "id": "fae1c3d5-c1bb-48bc-8460-8e2080421a47",
   "metadata": {},
   "outputs": [],
   "source": [
    "import numpy as np\n",
    "from sklearn.decomposition import PCA\n",
    "from sklearn.preprocessing import StandardScaler"
   ]
  },
  {
   "cell_type": "code",
   "execution_count": 6,
   "id": "ccab93e6-80ed-4488-bde6-70e127d5ceca",
   "metadata": {},
   "outputs": [],
   "source": [
    "import cagl\n",
    "from cagl.sklearn import HalfSphereCompact\n",
    "from cagl.sklearn import PXOR"
   ]
  },
  {
   "cell_type": "code",
   "execution_count": 7,
   "id": "11a7c0a8-b74f-46af-bd99-875f4ec49038",
   "metadata": {},
   "outputs": [],
   "source": [
    "from sklearn.pipeline import Pipeline"
   ]
  },
  {
   "cell_type": "code",
   "execution_count": 8,
   "id": "16bc2f9d-69a4-4126-92b8-40cf71228333",
   "metadata": {},
   "outputs": [],
   "source": [
    "NDIMS = 3"
   ]
  },
  {
   "cell_type": "code",
   "execution_count": 9,
   "id": "1b18b46c-b517-4a91-91f0-ac35d29983d1",
   "metadata": {},
   "outputs": [],
   "source": [
    "pca = Pipeline((\n",
    "    ('scaler0', StandardScaler()),\n",
    "    ('pca', PCA(n_components=NDIMS-1, whiten=True )),\n",
    "    ('compact', HalfSphereCompact())\n",
    "))"
   ]
  },
  {
   "cell_type": "code",
   "execution_count": 10,
   "id": "3b3183e8-027d-43cb-ac05-790bab090db7",
   "metadata": {},
   "outputs": [],
   "source": [
    "imgs = np.concatenate((two_images,zer_images))\n",
    "flat_imgs = np.reshape(imgs, (40,28*28) )\n",
    "imgs_pca = pca.fit_transform(flat_imgs)"
   ]
  },
  {
   "cell_type": "code",
   "execution_count": 11,
   "id": "a918c236-6f0b-42ee-aafe-7cd0ab4108fe",
   "metadata": {
    "scrolled": true
   },
   "outputs": [
    {
     "data": {
      "text/plain": [
       "array([[-0.51337373, -0.47475672,  0.71488005],\n",
       "       [-0.6355942 , -0.1449082 ,  0.75830185],\n",
       "       [-0.48685476, -0.01245508,  0.87339413],\n",
       "       [-0.5425233 ,  0.48984703,  0.6824357 ],\n",
       "       [-0.72393006,  0.35809714,  0.58965385],\n",
       "       [-0.5526116 , -0.29385567,  0.7799162 ],\n",
       "       [-0.6507333 , -0.2036938 ,  0.73147464],\n",
       "       [-0.6342102 , -0.18321498,  0.75113887],\n",
       "       [-0.59511226, -0.03910101,  0.80269074],\n",
       "       [-0.82048243, -0.15691626,  0.54971427],\n",
       "       [-0.7896524 , -0.06620403,  0.60997224],\n",
       "       [-0.7892355 , -0.12947606,  0.600286  ],\n",
       "       [-0.01755989, -0.05859947,  0.99812716],\n",
       "       [-0.71967876, -0.2911986 ,  0.6302903 ],\n",
       "       [ 0.24257421, -0.10593467,  0.96433175],\n",
       "       [-0.69148475,  0.08968316,  0.71680254],\n",
       "       [-0.42449865, -0.3825646 ,  0.82063705],\n",
       "       [-0.6571358 , -0.3667636 ,  0.6585263 ],\n",
       "       [-0.6973711 , -0.04142424,  0.71551204],\n",
       "       [-0.6869407 , -0.3393208 ,  0.6426304 ],\n",
       "       [ 0.75166297, -0.14873047,  0.642559  ],\n",
       "       [ 0.7789661 , -0.07860802,  0.62211937],\n",
       "       [ 0.15357988, -0.803706  ,  0.574865  ],\n",
       "       [ 0.36096478, -0.7294096 ,  0.5810904 ],\n",
       "       [ 0.88431996,  0.10480311,  0.45496657],\n",
       "       [ 0.48381066,  0.68312544,  0.54705286],\n",
       "       [ 0.7662673 , -0.45047566,  0.45815495],\n",
       "       [-0.18710457,  0.89537066,  0.40410817],\n",
       "       [ 0.45036462, -0.6462957 ,  0.6160142 ],\n",
       "       [ 0.5392878 , -0.6262496 ,  0.5630099 ],\n",
       "       [ 0.56225675, -0.63166636,  0.53372747],\n",
       "       [ 0.32613274,  0.7046825 ,  0.63012695],\n",
       "       [ 0.50987965, -0.6138451 ,  0.6026748 ],\n",
       "       [-0.19353062,  0.895621  ,  0.4005108 ],\n",
       "       [ 0.56728876,  0.6869293 ,  0.45421526],\n",
       "       [ 0.55669457,  0.07798821,  0.8270483 ],\n",
       "       [ 0.8647385 , -0.09688955,  0.49278772],\n",
       "       [ 0.26844552,  0.91019994,  0.3153934 ],\n",
       "       [ 0.39843494,  0.74819016,  0.5305291 ],\n",
       "       [ 0.36350852, -0.7110035 ,  0.60194314]], dtype=float32)"
      ]
     },
     "execution_count": 11,
     "metadata": {},
     "output_type": "execute_result"
    }
   ],
   "source": [
    "imgs_pca"
   ]
  },
  {
   "cell_type": "code",
   "execution_count": 12,
   "id": "dd3f839e-f086-4b74-bbfe-00faccfb3e62",
   "metadata": {},
   "outputs": [],
   "source": [
    "img = pca.inverse_transform(imgs_pca[:1,:])"
   ]
  },
  {
   "cell_type": "code",
   "execution_count": 13,
   "id": "c9f67714-9264-4d77-b5a7-b3e9f0fb34fc",
   "metadata": {},
   "outputs": [
    {
     "data": {
      "image/png": "[encoded data removed]",
      "text/plain": [
       "<Figure size 640x480 with 1 Axes>"
      ]
     },
     "metadata": {},
     "output_type": "display_data"
    }
   ],
   "source": [
    "plt.imshow(np.reshape(img, (28,28) ))\n",
    "plt.show()"
   ]
  },
  {
   "cell_type": "code",
   "execution_count": 14,
   "id": "88b134c0-8ea0-4bc5-bff3-867de3943307",
   "metadata": {},
   "outputs": [
    {
     "data": {
      "image/png": "[encoded data removed]",
      "text/plain": [
       "<Figure size 640x480 with 1 Axes>"
      ]
     },
     "metadata": {},
     "output_type": "display_data"
    }
   ],
   "source": [
    "img = pca.inverse_transform(imgs_pca[20:21,:])\n",
    "plt.imshow(np.reshape(img, (28,28) ))\n",
    "plt.show()"
   ]
  },
  {
   "cell_type": "code",
   "execution_count": 15,
   "id": "3d392a9b-6b8e-4fda-9958-b06ea64a9a56",
   "metadata": {},
   "outputs": [],
   "source": [
    "imgs_no_compact_pca = pca[:-1].transform(flat_imgs)"
   ]
  },
  {
   "cell_type": "code",
   "execution_count": 16,
   "id": "2465453a-24c8-491f-9bce-8277fc31c383",
   "metadata": {},
   "outputs": [
    {
     "data": {
      "text/plain": [
       "<matplotlib.collections.PathCollection at 0x7fa394ddac90>"
      ]
     },
     "execution_count": 16,
     "metadata": {},
     "output_type": "execute_result"
    },
    {
     "data": {
      "image/png": "[encoded data removed]",
      "text/plain": [
       "<Figure size 640x480 with 1 Axes>"
      ]
     },
     "metadata": {},
     "output_type": "display_data"
    }
   ],
   "source": [
    "fig = plt.figure()\n",
    "ax = fig.add_subplot(111)\n",
    "# plot x,y data with c as the color vector, set the line width of the markers to 0\n",
    "ax.scatter(imgs_no_compact_pca[:,0], imgs_no_compact_pca[:,1], c=np.array([0 for i in range(20)]+[1 for i in range(20)]), lw=0 )"
   ]
  },
  {
   "cell_type": "code",
   "execution_count": 17,
   "id": "55381c1c-246d-4b46-bff1-704d92cc1070",
   "metadata": {},
   "outputs": [],
   "source": [
    "import cagl"
   ]
  },
  {
   "cell_type": "code",
   "execution_count": 84,
   "id": "eb3304a1-3010-4aa0-9c4a-56bbc4befd42",
   "metadata": {},
   "outputs": [],
   "source": [
    "pxor = Pipeline((('compact', HalfSphereCompact()), ('pxor', PXOR(-0.30))))"
   ]
  },
  {
   "cell_type": "code",
   "execution_count": 85,
   "id": "0eecfce4-937f-44eb-a247-181b332fdeb1",
   "metadata": {},
   "outputs": [
    {
     "name": "stdout",
     "output_type": "stream",
     "text": [
      "The wurlitzer extension is already loaded. To reload it, use:\n",
      "  %reload_ext wurlitzer\n"
     ]
    }
   ],
   "source": [
    "%load_ext wurlitzer"
   ]
  },
  {
   "cell_type": "code",
   "execution_count": 86,
   "id": "63c951f7-cc1f-455d-ad7e-cbac3fc266d3",
   "metadata": {
    "scrolled": true
   },
   "outputs": [
    {
     "name": "stdout",
     "output_type": "stream",
     "text": [
      "[0, [1,\n",
      "[[[29515655537704273059254211602279079091 / 2^127, 59031311075408546118508423204558158183 / 2^128], [79840455838411974450390340173757364115 / 2^126, 319361823353647897801561360695029456461 / 2^128], [50782426424571177467396096951055507443 / 2^127, 101564852849142354934792193902111014887 / 2^128], [29515655537704273059254211602279079091 / 2^127, 59031311075408546118508423204558158183 / 2^128], [79840455838411974450390340173757364115 / 2^126, 319361823353647897801561360695029456461 / 2^128], [50782426424571177467396096951055507443 / 2^127, 101564852849142354934792193902111014887 / 2^128], [-138564755449251707666763275896338172089 / 2^125, -1108518043594013661334106207170705376711 / 2^128], [-138564755449251707666763275896338172089 / 2^125, -1108518043594013661334106207170705376711 / 2^128]], [[-226353019060187982048962105065168681727 / 2^128, -113176509530093991024481052532584340863 / 2^127], [-38052703814012403639060074315143125625 / 2^128, -4756587976751550454882509289392890703 / 2^125], [251213836665294806767983347908705501397 / 2^128, 125606918332647403383991673954352750699 / 2^127], [113176509530093991024481052532584340863 / 2^127, 226353019060187982048962105065168681727 / 2^128], [4756587976751550454882509289392890703 / 2^125, 38052703814012403639060074315143125625 / 2^128], [-125606918332647403383991673954352750699 / 2^127, -251213836665294806767983347908705501397 / 2^128], [-2821881749633967448196120768828442441727 / 2^128, -1410940874816983724098060384414221220863 / 2^127], [-2821881749633967448196120768828442441727 / 2^128, -1410940874816983724098060384414221220863 / 2^127]], [[-247126899208428380769387166790972934793 / 2^128, -30890862401053547596173395848871616849 / 2^125], [111140032184594212865521450801581391933 / 2^128, 55570016092297106432760725400790695967 / 2^127], [-102917780498501373008630767337640179179 / 2^127, -205835560997002746017261534675280358357 / 2^128], [-247126899208428380769387166790972934793 / 2^128, -30890862401053547596173395848871616849 / 2^125], [111140032184594212865521450801581391933 / 2^128, 55570016092297106432760725400790695967 / 2^127], [-102917780498501373008630767337640179179 / 2^127, -205835560997002746017261534675280358357 / 2^128], [-1713013226002002685997088753155514708535 / 2^128, -856506613001001342998544376577757354267 / 2^127], [-1713013226002002685997088753155514708535 / 2^128, -856506613001001342998544376577757354267 / 2^127]], [[113176509530093991024481052532584340863 / 2^127, 226353019060187982048962105065168681727 / 2^128], [4756587976751550454882509289392890703 / 2^125, 38052703814012403639060074315143125625 / 2^128], [-125606918332647403383991673954352750699 / 2^127, -251213836665294806767983347908705501397 / 2^128], [-226353019060187982048962105065168681727 / 2^128, -113176509530093991024481052532584340863 / 2^127], [-38052703814012403639060074315143125625 / 2^128, -4756587976751550454882509289392890703 / 2^125], [251213836665294806767983347908705501397 / 2^128, 125606918332647403383991673954352750699 / 2^127], [-2821881749633967448196120768828442441727 / 2^128, -1410940874816983724098060384414221220863 / 2^127], [-2821881749633967448196120768828442441727 / 2^128, -1410940874816983724098060384414221220863 / 2^127]], [[30890862401053547596173395848871616849 / 2^125, 247126899208428380769387166790972934793 / 2^128], [-55570016092297106432760725400790695967 / 2^127, -111140032184594212865521450801581391933 / 2^128], [205835560997002746017261534675280358357 / 2^128, 102917780498501373008630767337640179179 / 2^127], [-247126899208428380769387166790972934793 / 2^128, -30890862401053547596173395848871616849 / 2^125], [111140032184594212865521450801581391933 / 2^128, 55570016092297106432760725400790695967 / 2^127], [-102917780498501373008630767337640179179 / 2^127, -205835560997002746017261534675280358357 / 2^128], [856506613001001342998544376577757354267 / 2^127, 1713013226002002685997088753155514708535 / 2^128], [856506613001001342998544376577757354267 / 2^127, 1713013226002002685997088753155514708535 / 2^128]], [[30890862401053547596173395848871616849 / 2^125, 247126899208428380769387166790972934793 / 2^128], [-55570016092297106432760725400790695967 / 2^127, -111140032184594212865521450801581391933 / 2^128], [205835560997002746017261534675280358357 / 2^128, 102917780498501373008630767337640179179 / 2^127], [30890862401053547596173395848871616849 / 2^125, 247126899208428380769387166790972934793 / 2^128], [-55570016092297106432760725400790695967 / 2^127, -111140032184594212865521450801581391933 / 2^128], [205835560997002746017261534675280358357 / 2^128, 102917780498501373008630767337640179179 / 2^127], [-1713013226002002685997088753155514708535 / 2^128, -856506613001001342998544376577757354267 / 2^127], [-1713013226002002685997088753155514708535 / 2^128, -856506613001001342998544376577757354267 / 2^127]], [[29515655537704273059254211602279079091 / 2^127, 59031311075408546118508423204558158183 / 2^128], [79840455838411974450390340173757364115 / 2^126, 319361823353647897801561360695029456461 / 2^128], [50782426424571177467396096951055507443 / 2^127, 101564852849142354934792193902111014887 / 2^128], [-59031311075408546118508423204558158183 / 2^128, -29515655537704273059254211602279079091 / 2^127], [-319361823353647897801561360695029456461 / 2^128, -79840455838411974450390340173757364115 / 2^126], [-101564852849142354934792193902111014887 / 2^128, -50782426424571177467396096951055507443 / 2^127], [1108518043594013661334106207170705376711 / 2^128, 138564755449251707666763275896338172089 / 2^125], [1108518043594013661334106207170705376711 / 2^128, 138564755449251707666763275896338172089 / 2^125]], [[-59031311075408546118508423204558158183 / 2^128, -29515655537704273059254211602279079091 / 2^127], [-319361823353647897801561360695029456461 / 2^128, -79840455838411974450390340173757364115 / 2^126], [-101564852849142354934792193902111014887 / 2^128, -50782426424571177467396096951055507443 / 2^127], [-59031311075408546118508423204558158183 / 2^128, -29515655537704273059254211602279079091 / 2^127], [-319361823353647897801561360695029456461 / 2^128, -79840455838411974450390340173757364115 / 2^126], [-101564852849142354934792193902111014887 / 2^128, -50782426424571177467396096951055507443 / 2^127], [-138564755449251707666763275896338172089 / 2^125, -1108518043594013661334106207170705376711 / 2^128], [-138564755449251707666763275896338172089 / 2^125, -1108518043594013661334106207170705376711 / 2^128]], [[-59031311075408546118508423204558158183 / 2^128, -29515655537704273059254211602279079091 / 2^127], [-319361823353647897801561360695029456461 / 2^128, -79840455838411974450390340173757364115 / 2^126], [-101564852849142354934792193902111014887 / 2^128, -50782426424571177467396096951055507443 / 2^127], [29515655537704273059254211602279079091 / 2^127, 59031311075408546118508423204558158183 / 2^128], [79840455838411974450390340173757364115 / 2^126, 319361823353647897801561360695029456461 / 2^128], [50782426424571177467396096951055507443 / 2^127, 101564852849142354934792193902111014887 / 2^128], [1108518043594013661334106207170705376711 / 2^128, 138564755449251707666763275896338172089 / 2^125], [1108518043594013661334106207170705376711 / 2^128, 138564755449251707666763275896338172089 / 2^125]], [[-226353019060187982048962105065168681727 / 2^128, -113176509530093991024481052532584340863 / 2^127], [-38052703814012403639060074315143125625 / 2^128, -4756587976751550454882509289392890703 / 2^125], [251213836665294806767983347908705501397 / 2^128, 125606918332647403383991673954352750699 / 2^127], [-226353019060187982048962105065168681727 / 2^128, -113176509530093991024481052532584340863 / 2^127], [-38052703814012403639060074315143125625 / 2^128, -4756587976751550454882509289392890703 / 2^125], [251213836665294806767983347908705501397 / 2^128, 125606918332647403383991673954352750699 / 2^127], [1410940874816983724098060384414221220863 / 2^127, 2821881749633967448196120768828442441727 / 2^128], [1410940874816983724098060384414221220863 / 2^127, 2821881749633967448196120768828442441727 / 2^128]], [[113176509530093991024481052532584340863 / 2^127, 226353019060187982048962105065168681727 / 2^128], [4756587976751550454882509289392890703 / 2^125, 38052703814012403639060074315143125625 / 2^128], [-125606918332647403383991673954352750699 / 2^127, -251213836665294806767983347908705501397 / 2^128], [113176509530093991024481052532584340863 / 2^127, 226353019060187982048962105065168681727 / 2^128], [4756587976751550454882509289392890703 / 2^125, 38052703814012403639060074315143125625 / 2^128], [-125606918332647403383991673954352750699 / 2^127, -251213836665294806767983347908705501397 / 2^128], [1410940874816983724098060384414221220863 / 2^127, 2821881749633967448196120768828442441727 / 2^128], [1410940874816983724098060384414221220863 / 2^127, 2821881749633967448196120768828442441727 / 2^128]], [[-247126899208428380769387166790972934793 / 2^128, -30890862401053547596173395848871616849 / 2^125], [111140032184594212865521450801581391933 / 2^128, 55570016092297106432760725400790695967 / 2^127], [-102917780498501373008630767337640179179 / 2^127, -205835560997002746017261534675280358357 / 2^128], [30890862401053547596173395848871616849 / 2^125, 247126899208428380769387166790972934793 / 2^128], [-55570016092297106432760725400790695967 / 2^127, -111140032184594212865521450801581391933 / 2^128], [205835560997002746017261534675280358357 / 2^128, 102917780498501373008630767337640179179 / 2^127], [856506613001001342998544376577757354267 / 2^127, 1713013226002002685997088753155514708535 / 2^128], [856506613001001342998544376577757354267 / 2^127, 1713013226002002685997088753155514708535 / 2^128]]]\n",
      "]]:\n",
      "[[ 0.17347743  0.93852005  0.29847228  0.17347743  0.93852005  0.29847228\n",
      "  -3.25764175 -3.25764175]\n",
      " [-0.66519174 -0.11182685  0.73825111  0.66519174  0.11182685 -0.73825111\n",
      "  -8.29276514 -8.29276514]\n",
      " [-0.72624068  0.3266112  -0.60489635 -0.72624068  0.3266112  -0.60489635\n",
      "  -5.03409343 -5.03409343]\n",
      " [ 0.66519174  0.11182685 -0.73825111 -0.66519174 -0.11182685  0.73825111\n",
      "  -8.29276514 -8.29276514]\n",
      " [ 0.72624068 -0.3266112   0.60489635 -0.72624068  0.3266112  -0.60489635\n",
      "   5.03409343  5.03409343]\n",
      " [ 0.72624068 -0.3266112   0.60489635  0.72624068 -0.3266112   0.60489635\n",
      "  -5.03409343 -5.03409343]\n",
      " [ 0.17347743  0.93852005  0.29847228 -0.17347743 -0.93852005 -0.29847228\n",
      "   3.25764175  3.25764175]\n",
      " [-0.17347743 -0.93852005 -0.29847228 -0.17347743 -0.93852005 -0.29847228\n",
      "  -3.25764175 -3.25764175]\n",
      " [-0.17347743 -0.93852005 -0.29847228  0.17347743  0.93852005  0.29847228\n",
      "   3.25764175  3.25764175]\n",
      " [-0.66519174 -0.11182685  0.73825111 -0.66519174 -0.11182685  0.73825111\n",
      "   8.29276514  8.29276514]\n",
      " [ 0.66519174  0.11182685 -0.73825111  0.66519174  0.11182685 -0.73825111\n",
      "   8.29276514  8.29276514]\n",
      " [-0.72624068  0.3266112  -0.60489635  0.72624068 -0.3266112   0.60489635\n",
      "   5.03409343  5.03409343]]\n",
      "0 :  [-6.54429545]\n",
      "[0.17347743 0.93852005 0.29847228] [0.17347743 0.93852005 0.29847228]\n",
      "1 :  [-16.67146819]\n",
      "[-0.66519174 -0.11182685  0.73825111] [ 0.66519174  0.11182685 -0.73825111]\n",
      "2 :  [-10.12717282]\n",
      "[-0.72624068  0.3266112  -0.60489635] [-0.72624068  0.3266112  -0.60489635]\n",
      "3 :  [-16.67146819]\n",
      "[ 0.66519174  0.11182685 -0.73825111] [-0.66519174 -0.11182685  0.73825111]\n",
      "4 :  [10.12717282]\n",
      "[ 0.72624068 -0.3266112   0.60489635] [-0.72624068  0.3266112  -0.60489635]\n",
      "5 :  [-10.12717282]\n",
      "[ 0.72624068 -0.3266112   0.60489635] [ 0.72624068 -0.3266112   0.60489635]\n",
      "6 :  [6.54429545]\n",
      "[0.17347743 0.93852005 0.29847228] [-0.17347743 -0.93852005 -0.29847228]\n",
      "7 :  [-6.54429545]\n",
      "[-0.17347743 -0.93852005 -0.29847228] [-0.17347743 -0.93852005 -0.29847228]\n",
      "8 :  [6.54429545]\n",
      "[-0.17347743 -0.93852005 -0.29847228] [0.17347743 0.93852005 0.29847228]\n",
      "9 :  [16.67146819]\n",
      "[-0.66519174 -0.11182685  0.73825111] [-0.66519174 -0.11182685  0.73825111]\n",
      "10 :  [16.67146819]\n",
      "[ 0.66519174  0.11182685 -0.73825111] [ 0.66519174  0.11182685 -0.73825111]\n",
      "11 :  [10.12717282]\n",
      "[-0.72624068  0.3266112  -0.60489635] [ 0.72624068 -0.3266112   0.60489635]\n"
     ]
    },
    {
     "data": {
      "text/html": [
       "<style>#sk-container-id-9 {color: black;background-color: white;}#sk-container-id-9 pre{padding: 0;}#sk-container-id-9 div.sk-toggleable {background-color: white;}#sk-container-id-9 label.sk-toggleable__label {cursor: pointer;display: block;width: 100%;margin-bottom: 0;padding: 0.3em;box-sizing: border-box;text-align: center;}#sk-container-id-9 label.sk-toggleable__label-arrow:before {content: \"▸\";float: left;margin-right: 0.25em;color: #696969;}#sk-container-id-9 label.sk-toggleable__label-arrow:hover:before {color: black;}#sk-container-id-9 div.sk-estimator:hover label.sk-toggleable__label-arrow:before {color: black;}#sk-container-id-9 div.sk-toggleable__content {max-height: 0;max-width: 0;overflow: hidden;text-align: left;background-color: #f0f8ff;}#sk-container-id-9 div.sk-toggleable__content pre {margin: 0.2em;color: black;border-radius: 0.25em;background-color: #f0f8ff;}#sk-container-id-9 input.sk-toggleable__control:checked~div.sk-toggleable__content {max-height: 200px;max-width: 100%;overflow: auto;}#sk-container-id-9 input.sk-toggleable__control:checked~label.sk-toggleable__label-arrow:before {content: \"▾\";}#sk-container-id-9 div.sk-estimator input.sk-toggleable__control:checked~label.sk-toggleable__label {background-color: #d4ebff;}#sk-container-id-9 div.sk-label input.sk-toggleable__control:checked~label.sk-toggleable__label {background-color: #d4ebff;}#sk-container-id-9 input.sk-hidden--visually {border: 0;clip: rect(1px 1px 1px 1px);clip: rect(1px, 1px, 1px, 1px);height: 1px;margin: -1px;overflow: hidden;padding: 0;position: absolute;width: 1px;}#sk-container-id-9 div.sk-estimator {font-family: monospace;background-color: #f0f8ff;border: 1px dotted black;border-radius: 0.25em;box-sizing: border-box;margin-bottom: 0.5em;}#sk-container-id-9 div.sk-estimator:hover {background-color: #d4ebff;}#sk-container-id-9 div.sk-parallel-item::after {content: \"\";width: 100%;border-bottom: 1px solid gray;flex-grow: 1;}#sk-container-id-9 div.sk-label:hover label.sk-toggleable__label {background-color: #d4ebff;}#sk-container-id-9 div.sk-serial::before {content: \"\";position: absolute;border-left: 1px solid gray;box-sizing: border-box;top: 0;bottom: 0;left: 50%;z-index: 0;}#sk-container-id-9 div.sk-serial {display: flex;flex-direction: column;align-items: center;background-color: white;padding-right: 0.2em;padding-left: 0.2em;position: relative;}#sk-container-id-9 div.sk-item {position: relative;z-index: 1;}#sk-container-id-9 div.sk-parallel {display: flex;align-items: stretch;justify-content: center;background-color: white;position: relative;}#sk-container-id-9 div.sk-item::before, #sk-container-id-9 div.sk-parallel-item::before {content: \"\";position: absolute;border-left: 1px solid gray;box-sizing: border-box;top: 0;bottom: 0;left: 50%;z-index: -1;}#sk-container-id-9 div.sk-parallel-item {display: flex;flex-direction: column;z-index: 1;position: relative;background-color: white;}#sk-container-id-9 div.sk-parallel-item:first-child::after {align-self: flex-end;width: 50%;}#sk-container-id-9 div.sk-parallel-item:last-child::after {align-self: flex-start;width: 50%;}#sk-container-id-9 div.sk-parallel-item:only-child::after {width: 0;}#sk-container-id-9 div.sk-dashed-wrapped {border: 1px dashed gray;margin: 0 0.4em 0.5em 0.4em;box-sizing: border-box;padding-bottom: 0.4em;background-color: white;}#sk-container-id-9 div.sk-label label {font-family: monospace;font-weight: bold;display: inline-block;line-height: 1.2em;}#sk-container-id-9 div.sk-label-container {text-align: center;}#sk-container-id-9 div.sk-container {/* jupyter's `normalize.less` sets `[hidden] { display: none; }` but bootstrap.min.css set `[hidden] { display: none !important; }` so we also need the `!important` here to be able to override the default hidden behavior on the sphinx rendered scikit-learn.org. See: https://github.com/scikit-learn/scikit-learn/issues/21755 */display: inline-block !important;position: relative;}#sk-container-id-9 div.sk-text-repr-fallback {display: none;}</style><div id=\"sk-container-id-9\" class=\"sk-top-container\"><div class=\"sk-text-repr-fallback\"><pre>Pipeline(steps=[(&#x27;compact&#x27;, HalfSphereCompact()), (&#x27;pxor&#x27;, PXOR(dval=-0.3))])</pre><b>In a Jupyter environment, please rerun this cell to show the HTML representation or trust the notebook. <br />On GitHub, the HTML representation is unable to render, please try loading this page with nbviewer.org.</b></div><div class=\"sk-container\" hidden><div class=\"sk-item sk-dashed-wrapped\"><div class=\"sk-label-container\"><div class=\"sk-label sk-toggleable\"><input class=\"sk-toggleable__control sk-hidden--visually\" id=\"sk-estimator-id-25\" type=\"checkbox\" ><label for=\"sk-estimator-id-25\" class=\"sk-toggleable__label sk-toggleable__label-arrow\">Pipeline</label><div class=\"sk-toggleable__content\"><pre>Pipeline(steps=[(&#x27;compact&#x27;, HalfSphereCompact()), (&#x27;pxor&#x27;, PXOR(dval=-0.3))])</pre></div></div></div><div class=\"sk-serial\"><div class=\"sk-item\"><div class=\"sk-estimator sk-toggleable\"><input class=\"sk-toggleable__control sk-hidden--visually\" id=\"sk-estimator-id-26\" type=\"checkbox\" ><label for=\"sk-estimator-id-26\" class=\"sk-toggleable__label sk-toggleable__label-arrow\">HalfSphereCompact</label><div class=\"sk-toggleable__content\"><pre>HalfSphereCompact()</pre></div></div></div><div class=\"sk-item\"><div class=\"sk-estimator sk-toggleable\"><input class=\"sk-toggleable__control sk-hidden--visually\" id=\"sk-estimator-id-27\" type=\"checkbox\" ><label for=\"sk-estimator-id-27\" class=\"sk-toggleable__label sk-toggleable__label-arrow\">PXOR</label><div class=\"sk-toggleable__content\"><pre>PXOR(dval=-0.3)</pre></div></div></div></div></div></div></div>"
      ],
      "text/plain": [
       "Pipeline(steps=[('compact', HalfSphereCompact()), ('pxor', PXOR(dval=-0.3))])"
      ]
     },
     "execution_count": 86,
     "metadata": {},
     "output_type": "execute_result"
    }
   ],
   "source": [
    "pxor.fit(imgs_no_compact_pca, np.array([[0 for i in range(20)]+[1 for i in range(20)]]) )"
   ]
  },
  {
   "cell_type": "code",
   "execution_count": 87,
   "id": "9ff8dcda-00fc-4fd6-b781-41e223ed4f8e",
   "metadata": {},
   "outputs": [
    {
     "data": {
      "text/plain": [
       "array([-0.66519174, -0.11182685,  0.73825111])"
      ]
     },
     "execution_count": 87,
     "metadata": {},
     "output_type": "execute_result"
    }
   ],
   "source": [
    "pxor[1].w0"
   ]
  },
  {
   "cell_type": "code",
   "execution_count": 88,
   "id": "dd63919f-a1f8-49d5-987f-8765a47cbcd9",
   "metadata": {},
   "outputs": [
    {
     "data": {
      "text/plain": [
       "array([ 0.66519174,  0.11182685, -0.73825111])"
      ]
     },
     "execution_count": 88,
     "metadata": {},
     "output_type": "execute_result"
    }
   ],
   "source": [
    "pxor[1].w1"
   ]
  },
  {
   "cell_type": "code",
   "execution_count": 89,
   "id": "2dde64ad-2491-45b8-94e0-b23f0107d7bc",
   "metadata": {},
   "outputs": [
    {
     "data": {
      "text/plain": [
       "array([0, 0, 0, 0, 0, 0, 0, 0, 0, 0, 0, 0, 0, 0, 0, 0, 0, 0, 0, 0, 1, 1,\n",
       "       1, 1, 1, 1, 1, 1, 1, 1, 1, 1, 1, 1, 1, 1, 1, 1, 1, 1])"
      ]
     },
     "execution_count": 89,
     "metadata": {},
     "output_type": "execute_result"
    }
   ],
   "source": [
    "pxor.predict(imgs_no_compact_pca)"
   ]
  },
  {
   "cell_type": "code",
   "execution_count": 90,
   "id": "467c69f5-9e41-42c2-a95f-6441c2186ca7",
   "metadata": {},
   "outputs": [],
   "source": [
    "from mlxtend.plotting import plot_decision_regions"
   ]
  },
  {
   "cell_type": "code",
   "execution_count": 91,
   "id": "fecc1b66-e42f-4457-b5e5-a81bd2a9315a",
   "metadata": {},
   "outputs": [
    {
     "data": {
      "text/plain": [
       "<Axes: >"
      ]
     },
     "execution_count": 91,
     "metadata": {},
     "output_type": "execute_result"
    },
    {
     "data": {
      "image/png": "[encoded data removed]",
      "text/plain": [
       "<Figure size 640x480 with 1 Axes>"
      ]
     },
     "metadata": {},
     "output_type": "display_data"
    }
   ],
   "source": [
    "plot_decision_regions(imgs_no_compact_pca, np.array([0 for i in range(20)]+[1 for i in range(20)]), clf=pxor, legend=2 )"
   ]
  },
  {
   "cell_type": "code",
   "execution_count": null,
   "id": "ce677ea2-b9f1-4270-8e89-cfd1f6038551",
   "metadata": {},
   "outputs": [],
   "source": []
  }
 ],
 "metadata": {
  "kernelspec": {
   "display_name": "Python 3 (ipykernel)",
   "language": "python",
   "name": "python3"
  },
  "language_info": {
   "codemirror_mode": {
    "name": "ipython",
    "version": 3
   },
   "file_extension": ".py",
   "mimetype": "text/x-python",
   "name": "python",
   "nbconvert_exporter": "python",
   "pygments_lexer": "ipython3",
   "version": "3.11.6"
  }
 },
 "nbformat": 4,
 "nbformat_minor": 5
}
